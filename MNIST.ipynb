{
 "cells": [
  {
   "cell_type": "markdown",
   "id": "8adf9682-9308-434e-837f-c8280ea646e4",
   "metadata": {},
   "source": [
    "## imports"
   ]
  },
  {
   "cell_type": "code",
   "execution_count": 17,
   "id": "f33bea64-82d5-4935-99d8-f616c50e0f25",
   "metadata": {},
   "outputs": [],
   "source": [
    "import numpy as np\n",
    "import matplotlib.pyplot as plt\n",
    "import pandas as pd\n",
    "import torch\n",
    "import torch.nn.functional as F\n",
    "import random "
   ]
  },
  {
   "cell_type": "markdown",
   "id": "58182644-3cc1-4a59-bebe-063c5567566e",
   "metadata": {},
   "source": [
    "## reading inputs \n"
   ]
  },
  {
   "cell_type": "code",
   "execution_count": 18,
   "id": "cfa71301-97e9-4e3c-99a3-cd8b1c7da5c5",
   "metadata": {},
   "outputs": [],
   "source": [
    "df=pd.read_csv(\"mnist_train.csv\")\n",
    "test_df=pd.read_csv(\"mnist_test.csv\")"
   ]
  },
  {
   "cell_type": "code",
   "execution_count": 19,
   "id": "02302054-b7d0-4ce9-9b81-6500b776b3e8",
   "metadata": {},
   "outputs": [
    {
     "name": "stdout",
     "output_type": "stream",
     "text": [
      "tensor([[5., 0., 0.,  ..., 0., 0., 0.],\n",
      "        [0., 0., 0.,  ..., 0., 0., 0.],\n",
      "        [4., 0., 0.,  ..., 0., 0., 0.],\n",
      "        ...,\n",
      "        [5., 0., 0.,  ..., 0., 0., 0.],\n",
      "        [6., 0., 0.,  ..., 0., 0., 0.],\n",
      "        [8., 0., 0.,  ..., 0., 0., 0.]])\n"
     ]
    }
   ],
   "source": [
    "train_data = df.values  \n",
    "test_data=test_df.values\n",
    "train_tensor = torch.tensor(train_data, dtype=torch.float32)\n",
    "test_tensor = torch.tensor(test_data, dtype=torch.float32)\n",
    "print(train_tensor)"
   ]
  },
  {
   "cell_type": "code",
   "execution_count": 20,
   "id": "4b0fed84-8fa2-4940-a02e-72ecf3e96d06",
   "metadata": {},
   "outputs": [
    {
     "name": "stdout",
     "output_type": "stream",
     "text": [
      "tensor([[9., 0., 0.,  ..., 0., 0., 0.],\n",
      "        [8., 0., 0.,  ..., 0., 0., 0.],\n",
      "        [7., 0., 0.,  ..., 0., 0., 0.],\n",
      "        ...,\n",
      "        [2., 0., 0.,  ..., 0., 0., 0.],\n",
      "        [6., 0., 0.,  ..., 0., 0., 0.],\n",
      "        [8., 0., 0.,  ..., 0., 0., 0.]])\n"
     ]
    }
   ],
   "source": [
    "#shuffling the training dataset\n",
    "random.seed(9)\n",
    "shuffled_indices = torch.randperm(len(train_tensor))\n",
    "train_tensor = train_tensor[shuffled_indices]\n",
    "\n",
    "print(train_tensor)"
   ]
  },
  {
   "cell_type": "code",
   "execution_count": 21,
   "id": "a878438d-12c3-4497-92a8-df0ecfafac5a",
   "metadata": {},
   "outputs": [
    {
     "name": "stdout",
     "output_type": "stream",
     "text": [
      "tensor([[0., 0., 0.,  ..., 0., 0., 0.],\n",
      "        [0., 0., 0.,  ..., 0., 0., 0.],\n",
      "        [0., 0., 0.,  ..., 0., 0., 0.],\n",
      "        ...,\n",
      "        [0., 0., 0.,  ..., 0., 0., 0.],\n",
      "        [0., 0., 0.,  ..., 0., 0., 0.],\n",
      "        [0., 0., 0.,  ..., 0., 0., 0.]])\n",
      "tensor([9, 8, 7,  ..., 2, 6, 8])\n"
     ]
    }
   ],
   "source": [
    "#dividing features and labels from the dataset.\n",
    "features=train_tensor[:,1:]\n",
    "labels=train_tensor[:,0].long()\n",
    "\n",
    "test_features=test_tensor[:,1:]\n",
    "test_labels=test_tensor[:,0].long()\n",
    "\n",
    "print(features)\n",
    "print(labels)"
   ]
  },
  {
   "cell_type": "markdown",
   "id": "dce0edec-ff28-4be6-a0c6-086fdaad5c29",
   "metadata": {},
   "source": [
    "## intializing weights/ layers \n"
   ]
  },
  {
   "cell_type": "code",
   "execution_count": 22,
   "id": "630cdb6b-567c-4286-9f22-7aadce375310",
   "metadata": {},
   "outputs": [],
   "source": [
    "g=torch.Generator().manual_seed(9)\n",
    "\n",
    "w1=torch.randn(784,256,generator=g)* (2 / 784)**0.5#hidden layer 1\n",
    "b1=torch.zeros(256)\n",
    "\n",
    "\n",
    "w2=torch.randn(256,10,generator=g)* (2 / 256)**0.5#hidden layer 2\n",
    "b2=torch.zeros(10)\n",
    "\n",
    "\n",
    "\n",
    "\n",
    "\n",
    "parameters=[w1,b1,w2,b2]\n",
    "for p in parameters:\n",
    "    p.requires_grad=True"
   ]
  },
  {
   "cell_type": "code",
   "execution_count": 35,
   "id": "08889365-51e1-4d87-9c9e-0645fadba384",
   "metadata": {},
   "outputs": [
    {
     "name": "stdout",
     "output_type": "stream",
     "text": [
      "0 -> 0.36886918544769287\n",
      "10 -> 0.3684919476509094\n",
      "20 -> 0.36811912059783936\n",
      "30 -> 0.36775174736976624\n",
      "40 -> 0.36738744378089905\n",
      "50 -> 0.3670269846916199\n",
      "60 -> 0.36667150259017944\n",
      "70 -> 0.3663199245929718\n",
      "80 -> 0.36597195267677307\n",
      "90 -> 0.36562666296958923\n",
      "0.36531907320022583\n"
     ]
    }
   ],
   "source": [
    "epoch=100#800 total\n",
    "\n",
    "for i in range(epoch):\n",
    "    layer1 = torch.relu(features @ w1 + b1)\n",
    "    logits = layer1 @ w2 + b2\n",
    "    loss = F.cross_entropy(logits, labels)\n",
    "    \n",
    "    \n",
    "    for p in parameters:\n",
    "        p.grad=None\n",
    "    loss.backward()\n",
    "\n",
    "    \n",
    "    lr=0.0005#500 0.1 and 200 0.01 and 100 0.005\n",
    "    for p in parameters:\n",
    "        p.data-=lr*p.grad\n",
    "    if i%10==0:\n",
    "            print(i,'->',loss.item())\n",
    "print(loss.item())\n"
   ]
  },
  {
   "cell_type": "code",
   "execution_count": 36,
   "id": "a758b1a8-88e2-40fe-bcb1-e9192d778712",
   "metadata": {},
   "outputs": [
    {
     "name": "stdout",
     "output_type": "stream",
     "text": [
      "Accuracy: 89.29%\n"
     ]
    }
   ],
   "source": [
    "'''\n",
    "# Load the test CSV file\n",
    "test_csv_path = \"mnist_test.csv\"  # Replace with your test CSV file path\n",
    "test_df = pd.read_csv(test_csv_path)\n",
    "\n",
    "# Convert to PyTorch tensor\n",
    "test_data = test_df.values\n",
    "test_tensor = torch.tensor(test_data, dtype=torch.float32)\n",
    "\n",
    "# Normalize pixel values to [0, 1]\n",
    "test_tensor[:, 1:] /= 255.0\n",
    "\n",
    "# Separate features (pixel values) and labels (if available)\n",
    "test_features = test_tensor[:, 1:]  # Features (pixel values)\n",
    "test_labels = test_tensor[:, 0].long()  # Labels (if available, otherwise ignore)\n",
    "\n",
    "'''\n",
    "\n",
    "with torch.no_grad():\n",
    "    layer1 = F.relu(test_features @ w1 + b1)\n",
    "    test_logits = layer1 @ w2 + b2\n",
    "    predictions = torch.argmax(test_logits, dim=1)\n",
    "    accuracy = (predictions == test_labels).float().mean()\n",
    "    print(f\"Accuracy: {accuracy.item() * 100:.2f}%\")"
   ]
  },
  {
   "cell_type": "code",
   "execution_count": 37,
   "id": "caf26beb-6f7e-463d-82e2-c41557e5d1db",
   "metadata": {},
   "outputs": [
    {
     "name": "stdout",
     "output_type": "stream",
     "text": [
      "\n",
      "Total Accuracy: 89.29%\n",
      "Per-Digit Accuracy:\n",
      "Digit 0: 83.98%\n",
      "Digit 1: 93.66%\n",
      "Digit 2: 90.70%\n",
      "Digit 3: 87.13%\n",
      "Digit 4: 89.31%\n",
      "Digit 5: 83.97%\n",
      "Digit 6: 90.61%\n",
      "Digit 7: 90.76%\n",
      "Digit 8: 91.48%\n",
      "Digit 9: 90.09%\n"
     ]
    }
   ],
   "source": [
    "with torch.no_grad():\n",
    "    # Forward pass\n",
    "    layer1 = F.relu(test_features @ w1 + b1)\n",
    "    test_logits = layer1 @ w2 + b2\n",
    "    predictions = torch.argmax(test_logits, dim=1)\n",
    "    \n",
    "    # Total accuracy\n",
    "    total_accuracy = (predictions == test_labels).float().mean().item() * 100\n",
    "    \n",
    "    # Per-digit accuracy\n",
    "    digit_accuracies = {}\n",
    "    for digit in range(10):\n",
    "        mask = (test_labels == digit)\n",
    "        correct = (predictions[mask] == test_labels[mask]).sum().item()\n",
    "        total = mask.sum().item()\n",
    "        digit_accuracies[digit] = (correct / total) * 100 if total > 0 else 0.0\n",
    "\n",
    "# Print results\n",
    "print(f\"\\nTotal Accuracy: {total_accuracy:.2f}%\")\n",
    "print(\"Per-Digit Accuracy:\")\n",
    "for digit in range(10):\n",
    "    print(f\"Digit {digit}: {digit_accuracies[digit]:.2f}%\")"
   ]
  }
 ],
 "metadata": {
  "kernelspec": {
   "display_name": "Python 3 (ipykernel)",
   "language": "python",
   "name": "python3"
  },
  "language_info": {
   "codemirror_mode": {
    "name": "ipython",
    "version": 3
   },
   "file_extension": ".py",
   "mimetype": "text/x-python",
   "name": "python",
   "nbconvert_exporter": "python",
   "pygments_lexer": "ipython3",
   "version": "3.12.3"
  }
 },
 "nbformat": 4,
 "nbformat_minor": 5
}
